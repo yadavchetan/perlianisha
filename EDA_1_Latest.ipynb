{
  "cells": [
    {
      "metadata": {},
      "cell_type": "markdown",
      "source": "# Exploratory Data Analysis"
    },
    {
      "metadata": {
        "trusted": true
      },
      "cell_type": "code",
      "source": "!pip install pandas_profiling\n!pip install sweetviz",
      "execution_count": 3,
      "outputs": [
        {
          "output_type": "stream",
          "text": "Collecting pandas_profiling\n  Downloading pandas_profiling-2.9.0-py2.py3-none-any.whl (258 kB)\nCollecting confuse>=1.0.0\n  Downloading confuse-1.3.0-py2.py3-none-any.whl (64 kB)\nRequirement already satisfied: pandas!=1.0.0,!=1.0.1,!=1.0.2,!=1.1.0,>=0.25.3 in c:\\programdata\\anaconda3\\lib\\site-packages (from pandas_profiling) (1.0.5)\nCollecting missingno>=0.4.2\n  Downloading missingno-0.4.2-py3-none-any.whl (9.7 kB)\nRequirement already satisfied: attrs>=19.3.0 in c:\\programdata\\anaconda3\\lib\\site-packages (from pandas_profiling) (19.3.0)\nCollecting phik>=0.9.10\n  Downloading phik-0.10.0-py3-none-any.whl (599 kB)\nRequirement already satisfied: numpy>=1.16.0 in c:\\programdata\\anaconda3\\lib\\site-packages (from pandas_profiling) (1.18.5)\nCollecting tangled-up-in-unicode>=0.0.6\n  Downloading tangled_up_in_unicode-0.0.6-py3-none-any.whl (3.1 MB)\nRequirement already satisfied: seaborn>=0.10.1 in c:\\programdata\\anaconda3\\lib\\site-packages (from pandas_profiling) (0.10.1)\nRequirement already satisfied: tqdm>=4.43.0 in c:\\programdata\\anaconda3\\lib\\site-packages (from pandas_profiling) (4.47.0)\nRequirement already satisfied: requests>=2.23.0 in c:\\programdata\\anaconda3\\lib\\site-packages (from pandas_profiling) (2.24.0)\nRequirement already satisfied: matplotlib>=3.2.0 in c:\\programdata\\anaconda3\\lib\\site-packages (from pandas_profiling) (3.2.2)\nRequirement already satisfied: jinja2>=2.11.1 in c:\\programdata\\anaconda3\\lib\\site-packages (from pandas_profiling) (2.11.2)\nCollecting htmlmin>=0.1.12\n  Downloading htmlmin-0.1.12.tar.gz (19 kB)\nRequirement already satisfied: ipywidgets>=7.5.1 in c:\\programdata\\anaconda3\\lib\\site-packages (from pandas_profiling) (7.5.1)\nRequirement already satisfied: joblib in c:\\programdata\\anaconda3\\lib\\site-packages (from pandas_profiling) (0.16.0)\nRequirement already satisfied: scipy>=1.4.1 in c:\\programdata\\anaconda3\\lib\\site-packages (from pandas_profiling) (1.5.0)\nCollecting visions[type_image_path]==0.5.0\n  Downloading visions-0.5.0-py3-none-any.whl (64 kB)\nRequirement already satisfied: pyyaml in c:\\programdata\\anaconda3\\lib\\site-packages (from confuse>=1.0.0->pandas_profiling) (5.3.1)\nRequirement already satisfied: pytz>=2017.2 in c:\\programdata\\anaconda3\\lib\\site-packages (from pandas!=1.0.0,!=1.0.1,!=1.0.2,!=1.1.0,>=0.25.3->pandas_profiling) (2020.1)\nRequirement already satisfied: python-dateutil>=2.6.1 in c:\\programdata\\anaconda3\\lib\\site-packages (from pandas!=1.0.0,!=1.0.1,!=1.0.2,!=1.1.0,>=0.25.3->pandas_profiling) (2.8.1)\nRequirement already satisfied: numba>=0.38.1 in c:\\programdata\\anaconda3\\lib\\site-packages (from phik>=0.9.10->pandas_profiling) (0.50.1)\nRequirement already satisfied: certifi>=2017.4.17 in c:\\programdata\\anaconda3\\lib\\site-packages (from requests>=2.23.0->pandas_profiling) (2020.6.20)\nRequirement already satisfied: urllib3!=1.25.0,!=1.25.1,<1.26,>=1.21.1 in c:\\programdata\\anaconda3\\lib\\site-packages (from requests>=2.23.0->pandas_profiling) (1.25.9)\nRequirement already satisfied: idna<3,>=2.5 in c:\\programdata\\anaconda3\\lib\\site-packages (from requests>=2.23.0->pandas_profiling) (2.10)\nRequirement already satisfied: chardet<4,>=3.0.2 in c:\\programdata\\anaconda3\\lib\\site-packages (from requests>=2.23.0->pandas_profiling) (3.0.4)\nRequirement already satisfied: pyparsing!=2.0.4,!=2.1.2,!=2.1.6,>=2.0.1 in c:\\programdata\\anaconda3\\lib\\site-packages (from matplotlib>=3.2.0->pandas_profiling) (2.4.7)\nRequirement already satisfied: cycler>=0.10 in c:\\programdata\\anaconda3\\lib\\site-packages (from matplotlib>=3.2.0->pandas_profiling) (0.10.0)\nRequirement already satisfied: kiwisolver>=1.0.1 in c:\\programdata\\anaconda3\\lib\\site-packages (from matplotlib>=3.2.0->pandas_profiling) (1.2.0)\nRequirement already satisfied: MarkupSafe>=0.23 in c:\\programdata\\anaconda3\\lib\\site-packages (from jinja2>=2.11.1->pandas_profiling) (1.1.1)\nRequirement already satisfied: ipython>=4.0.0; python_version >= \"3.3\" in c:\\programdata\\anaconda3\\lib\\site-packages (from ipywidgets>=7.5.1->pandas_profiling) (7.16.1)\nRequirement already satisfied: nbformat>=4.2.0 in c:\\programdata\\anaconda3\\lib\\site-packages (from ipywidgets>=7.5.1->pandas_profiling) (5.0.7)\nRequirement already satisfied: widgetsnbextension~=3.5.0 in c:\\programdata\\anaconda3\\lib\\site-packages (from ipywidgets>=7.5.1->pandas_profiling) (3.5.1)\nRequirement already satisfied: traitlets>=4.3.1 in c:\\programdata\\anaconda3\\lib\\site-packages (from ipywidgets>=7.5.1->pandas_profiling) (4.3.3)\nRequirement already satisfied: ipykernel>=4.5.1 in c:\\programdata\\anaconda3\\lib\\site-packages (from ipywidgets>=7.5.1->pandas_profiling) (5.3.2)\nRequirement already satisfied: networkx>=2.4 in c:\\programdata\\anaconda3\\lib\\site-packages (from visions[type_image_path]==0.5.0->pandas_profiling) (2.4)\nCollecting imagehash; extra == \"type_image_path\"\n  Downloading ImageHash-4.1.0.tar.gz (291 kB)\nRequirement already satisfied: Pillow; extra == \"type_image_path\" in c:\\programdata\\anaconda3\\lib\\site-packages (from visions[type_image_path]==0.5.0->pandas_profiling) (7.2.0)\nRequirement already satisfied: six>=1.5 in c:\\programdata\\anaconda3\\lib\\site-packages (from python-dateutil>=2.6.1->pandas!=1.0.0,!=1.0.1,!=1.0.2,!=1.1.0,>=0.25.3->pandas_profiling) (1.15.0)\nRequirement already satisfied: llvmlite<0.34,>=0.33.0.dev0 in c:\\programdata\\anaconda3\\lib\\site-packages (from numba>=0.38.1->phik>=0.9.10->pandas_profiling) (0.33.0+1.g022ab0f)\nRequirement already satisfied: setuptools in c:\\programdata\\anaconda3\\lib\\site-packages (from numba>=0.38.1->phik>=0.9.10->pandas_profiling) (49.2.0.post20200714)\nRequirement already satisfied: backcall in c:\\programdata\\anaconda3\\lib\\site-packages (from ipython>=4.0.0; python_version >= \"3.3\"->ipywidgets>=7.5.1->pandas_profiling) (0.2.0)\nRequirement already satisfied: colorama; sys_platform == \"win32\" in c:\\programdata\\anaconda3\\lib\\site-packages (from ipython>=4.0.0; python_version >= \"3.3\"->ipywidgets>=7.5.1->pandas_profiling) (0.4.3)\nRequirement already satisfied: pickleshare in c:\\programdata\\anaconda3\\lib\\site-packages (from ipython>=4.0.0; python_version >= \"3.3\"->ipywidgets>=7.5.1->pandas_profiling) (0.7.5)\nRequirement already satisfied: decorator in c:\\programdata\\anaconda3\\lib\\site-packages (from ipython>=4.0.0; python_version >= \"3.3\"->ipywidgets>=7.5.1->pandas_profiling) (4.4.2)\nRequirement already satisfied: jedi>=0.10 in c:\\programdata\\anaconda3\\lib\\site-packages (from ipython>=4.0.0; python_version >= \"3.3\"->ipywidgets>=7.5.1->pandas_profiling) (0.17.1)\nRequirement already satisfied: pygments in c:\\programdata\\anaconda3\\lib\\site-packages (from ipython>=4.0.0; python_version >= \"3.3\"->ipywidgets>=7.5.1->pandas_profiling) (2.6.1)\nRequirement already satisfied: prompt-toolkit!=3.0.0,!=3.0.1,<3.1.0,>=2.0.0 in c:\\programdata\\anaconda3\\lib\\site-packages (from ipython>=4.0.0; python_version >= \"3.3\"->ipywidgets>=7.5.1->pandas_profiling) (3.0.5)\nRequirement already satisfied: ipython-genutils in c:\\programdata\\anaconda3\\lib\\site-packages (from nbformat>=4.2.0->ipywidgets>=7.5.1->pandas_profiling) (0.2.0)\nRequirement already satisfied: jupyter-core in c:\\programdata\\anaconda3\\lib\\site-packages (from nbformat>=4.2.0->ipywidgets>=7.5.1->pandas_profiling) (4.6.3)\nRequirement already satisfied: jsonschema!=2.5.0,>=2.4 in c:\\programdata\\anaconda3\\lib\\site-packages (from nbformat>=4.2.0->ipywidgets>=7.5.1->pandas_profiling) (3.2.0)\nRequirement already satisfied: notebook>=4.4.1 in c:\\programdata\\anaconda3\\lib\\site-packages (from widgetsnbextension~=3.5.0->ipywidgets>=7.5.1->pandas_profiling) (6.0.3)\nRequirement already satisfied: tornado>=4.2 in c:\\programdata\\anaconda3\\lib\\site-packages (from ipykernel>=4.5.1->ipywidgets>=7.5.1->pandas_profiling) (6.0.4)\nRequirement already satisfied: jupyter-client in c:\\programdata\\anaconda3\\lib\\site-packages (from ipykernel>=4.5.1->ipywidgets>=7.5.1->pandas_profiling) (6.1.6)\nRequirement already satisfied: PyWavelets in c:\\programdata\\anaconda3\\lib\\site-packages (from imagehash; extra == \"type_image_path\"->visions[type_image_path]==0.5.0->pandas_profiling) (1.1.1)\nRequirement already satisfied: parso<0.8.0,>=0.7.0 in c:\\programdata\\anaconda3\\lib\\site-packages (from jedi>=0.10->ipython>=4.0.0; python_version >= \"3.3\"->ipywidgets>=7.5.1->pandas_profiling) (0.7.0)\nRequirement already satisfied: wcwidth in c:\\programdata\\anaconda3\\lib\\site-packages (from prompt-toolkit!=3.0.0,!=3.0.1,<3.1.0,>=2.0.0->ipython>=4.0.0; python_version >= \"3.3\"->ipywidgets>=7.5.1->pandas_profiling) (0.2.5)\nRequirement already satisfied: pywin32>=1.0; sys_platform == \"win32\" in c:\\programdata\\anaconda3\\lib\\site-packages (from jupyter-core->nbformat>=4.2.0->ipywidgets>=7.5.1->pandas_profiling) (227)\nRequirement already satisfied: pyrsistent>=0.14.0 in c:\\programdata\\anaconda3\\lib\\site-packages (from jsonschema!=2.5.0,>=2.4->nbformat>=4.2.0->ipywidgets>=7.5.1->pandas_profiling) (0.16.0)\nRequirement already satisfied: prometheus-client in c:\\programdata\\anaconda3\\lib\\site-packages (from notebook>=4.4.1->widgetsnbextension~=3.5.0->ipywidgets>=7.5.1->pandas_profiling) (0.8.0)\nRequirement already satisfied: Send2Trash in c:\\programdata\\anaconda3\\lib\\site-packages (from notebook>=4.4.1->widgetsnbextension~=3.5.0->ipywidgets>=7.5.1->pandas_profiling) (1.5.0)\nRequirement already satisfied: nbconvert in c:\\programdata\\anaconda3\\lib\\site-packages (from notebook>=4.4.1->widgetsnbextension~=3.5.0->ipywidgets>=7.5.1->pandas_profiling) (5.6.1)\nRequirement already satisfied: pyzmq>=17 in c:\\programdata\\anaconda3\\lib\\site-packages (from notebook>=4.4.1->widgetsnbextension~=3.5.0->ipywidgets>=7.5.1->pandas_profiling) (19.0.1)\nRequirement already satisfied: terminado>=0.8.1 in c:\\programdata\\anaconda3\\lib\\site-packages (from notebook>=4.4.1->widgetsnbextension~=3.5.0->ipywidgets>=7.5.1->pandas_profiling) (0.8.3)\nRequirement already satisfied: defusedxml in c:\\programdata\\anaconda3\\lib\\site-packages (from nbconvert->notebook>=4.4.1->widgetsnbextension~=3.5.0->ipywidgets>=7.5.1->pandas_profiling) (0.6.0)\nRequirement already satisfied: bleach in c:\\programdata\\anaconda3\\lib\\site-packages (from nbconvert->notebook>=4.4.1->widgetsnbextension~=3.5.0->ipywidgets>=7.5.1->pandas_profiling) (3.1.5)\nRequirement already satisfied: testpath in c:\\programdata\\anaconda3\\lib\\site-packages (from nbconvert->notebook>=4.4.1->widgetsnbextension~=3.5.0->ipywidgets>=7.5.1->pandas_profiling) (0.4.4)\nRequirement already satisfied: mistune<2,>=0.8.1 in c:\\programdata\\anaconda3\\lib\\site-packages (from nbconvert->notebook>=4.4.1->widgetsnbextension~=3.5.0->ipywidgets>=7.5.1->pandas_profiling) (0.8.4)\nRequirement already satisfied: pandocfilters>=1.4.1 in c:\\programdata\\anaconda3\\lib\\site-packages (from nbconvert->notebook>=4.4.1->widgetsnbextension~=3.5.0->ipywidgets>=7.5.1->pandas_profiling) (1.4.2)\nRequirement already satisfied: entrypoints>=0.2.2 in c:\\programdata\\anaconda3\\lib\\site-packages (from nbconvert->notebook>=4.4.1->widgetsnbextension~=3.5.0->ipywidgets>=7.5.1->pandas_profiling) (0.3)\nRequirement already satisfied: webencodings in c:\\programdata\\anaconda3\\lib\\site-packages (from bleach->nbconvert->notebook>=4.4.1->widgetsnbextension~=3.5.0->ipywidgets>=7.5.1->pandas_profiling) (0.5.1)\nRequirement already satisfied: packaging in c:\\programdata\\anaconda3\\lib\\site-packages (from bleach->nbconvert->notebook>=4.4.1->widgetsnbextension~=3.5.0->ipywidgets>=7.5.1->pandas_profiling) (20.4)\nBuilding wheels for collected packages: htmlmin, imagehash\n  Building wheel for htmlmin (setup.py): started\n  Building wheel for htmlmin (setup.py): finished with status 'done'\n  Created wheel for htmlmin: filename=htmlmin-0.1.12-py3-none-any.whl size=27090 sha256=ee5e64e7a715685a7becd4e66655490ed0b0dff999187e5e631f6435b06bce36\n  Stored in directory: c:\\users\\perline.anisha\\appdata\\local\\pip\\cache\\wheels\\23\\14\\6e\\4be5bfeeb027f4939a01764b48edd5996acf574b0913fe5243\n  Building wheel for imagehash (setup.py): started\n  Building wheel for imagehash (setup.py): finished with status 'done'\n  Created wheel for imagehash: filename=ImageHash-4.1.0-py2.py3-none-any.whl size=291996 sha256=cd7e7497f653a8f5516bb8440cff71a4c18e9c8ec3a5a7d105eb445e4b0fc908\n  Stored in directory: c:\\users\\perline.anisha\\appdata\\local\\pip\\cache\\wheels\\cc\\57\\bb\\6f9f52a6d8187b8f806210e3378837aa4dc6219cd64cb99846\nSuccessfully built htmlmin imagehash\nInstalling collected packages: confuse, missingno, phik, tangled-up-in-unicode, htmlmin, imagehash, visions, pandas-profiling\nSuccessfully installed confuse-1.3.0 htmlmin-0.1.12 imagehash-4.1.0 missingno-0.4.2 pandas-profiling-2.9.0 phik-0.10.0 tangled-up-in-unicode-0.0.6 visions-0.5.0\n",
          "name": "stdout"
        },
        {
          "output_type": "stream",
          "text": "Collecting sweetviz\n  Downloading sweetviz-1.0b6-py3-none-any.whl (325 kB)\nRequirement already satisfied: scipy>=1.3.2 in c:\\programdata\\anaconda3\\lib\\site-packages (from sweetviz) (1.5.0)\nRequirement already satisfied: pandas!=1.0.0,!=1.0.1,!=1.0.2,>=0.25.3 in c:\\programdata\\anaconda3\\lib\\site-packages (from sweetviz) (1.0.5)\nRequirement already satisfied: numpy>=1.16.0 in c:\\programdata\\anaconda3\\lib\\site-packages (from sweetviz) (1.18.5)\nRequirement already satisfied: jinja2>=2.11.1 in c:\\programdata\\anaconda3\\lib\\site-packages (from sweetviz) (2.11.2)\nRequirement already satisfied: matplotlib>=3.1.3 in c:\\programdata\\anaconda3\\lib\\site-packages (from sweetviz) (3.2.2)\nCollecting importlib-resources>=1.2.0\n  Downloading importlib_resources-3.0.0-py2.py3-none-any.whl (23 kB)\nRequirement already satisfied: tqdm>=4.43.0 in c:\\programdata\\anaconda3\\lib\\site-packages (from sweetviz) (4.47.0)\nRequirement already satisfied: pytz>=2017.2 in c:\\programdata\\anaconda3\\lib\\site-packages (from pandas!=1.0.0,!=1.0.1,!=1.0.2,>=0.25.3->sweetviz) (2020.1)\nRequirement already satisfied: python-dateutil>=2.6.1 in c:\\programdata\\anaconda3\\lib\\site-packages (from pandas!=1.0.0,!=1.0.1,!=1.0.2,>=0.25.3->sweetviz) (2.8.1)\nRequirement already satisfied: MarkupSafe>=0.23 in c:\\programdata\\anaconda3\\lib\\site-packages (from jinja2>=2.11.1->sweetviz) (1.1.1)\nRequirement already satisfied: kiwisolver>=1.0.1 in c:\\programdata\\anaconda3\\lib\\site-packages (from matplotlib>=3.1.3->sweetviz) (1.2.0)\nRequirement already satisfied: pyparsing!=2.0.4,!=2.1.2,!=2.1.6,>=2.0.1 in c:\\programdata\\anaconda3\\lib\\site-packages (from matplotlib>=3.1.3->sweetviz) (2.4.7)\nRequirement already satisfied: cycler>=0.10 in c:\\programdata\\anaconda3\\lib\\site-packages (from matplotlib>=3.1.3->sweetviz) (0.10.0)\nRequirement already satisfied: six>=1.5 in c:\\programdata\\anaconda3\\lib\\site-packages (from python-dateutil>=2.6.1->pandas!=1.0.0,!=1.0.1,!=1.0.2,>=0.25.3->sweetviz) (1.15.0)\nInstalling collected packages: importlib-resources, sweetviz\nSuccessfully installed importlib-resources-3.0.0 sweetviz-1.0b6\n",
          "name": "stdout"
        }
      ]
    },
    {
      "metadata": {
        "trusted": true
      },
      "cell_type": "code",
      "source": "#load the libraries\nimport pandas as pd\nimport numpy as np\nimport pandas_profiling as pp\nimport sweetviz as sv",
      "execution_count": 4,
      "outputs": []
    },
    {
      "metadata": {
        "trusted": true
      },
      "cell_type": "code",
      "source": "data1 = pd.read_csv(\"data_clean.csv\")",
      "execution_count": 6,
      "outputs": []
    },
    {
      "metadata": {
        "trusted": true
      },
      "cell_type": "code",
      "source": "data1.tail(10)",
      "execution_count": 7,
      "outputs": [
        {
          "output_type": "execute_result",
          "execution_count": 7,
          "data": {
            "text/plain": "     Unnamed: 0  Ozone  Solar.R  Wind Temp C Month  Day  Year  Temp Weather\n148         149   30.0    193.0   6.9     70     9   26  2010    70       C\n149         150    NaN    145.0  13.2     77     9   27  2010    77      PS\n150         151   14.0    191.0  14.3     75     9   28  2010    75       S\n151         152   18.0    131.0   8.0     76     9   29  2010    76      PS\n152         153   20.0    223.0  11.5     68     9   30  2010    68       S\n153         154   41.0    190.0   7.4     67     5    1  2010    67       C\n154         155   30.0    193.0   6.9     70     9   26  2010    70      PS\n155         156    NaN    145.0  13.2     77     9   27  2010    77       S\n156         157   14.0    191.0  14.3     75     9   28  2010    75       S\n157         158   18.0    131.0   8.0     76     9   29  2010    76       C",
            "text/html": "<div>\n<style scoped>\n    .dataframe tbody tr th:only-of-type {\n        vertical-align: middle;\n    }\n\n    .dataframe tbody tr th {\n        vertical-align: top;\n    }\n\n    .dataframe thead th {\n        text-align: right;\n    }\n</style>\n<table border=\"1\" class=\"dataframe\">\n  <thead>\n    <tr style=\"text-align: right;\">\n      <th></th>\n      <th>Unnamed: 0</th>\n      <th>Ozone</th>\n      <th>Solar.R</th>\n      <th>Wind</th>\n      <th>Temp C</th>\n      <th>Month</th>\n      <th>Day</th>\n      <th>Year</th>\n      <th>Temp</th>\n      <th>Weather</th>\n    </tr>\n  </thead>\n  <tbody>\n    <tr>\n      <th>148</th>\n      <td>149</td>\n      <td>30.0</td>\n      <td>193.0</td>\n      <td>6.9</td>\n      <td>70</td>\n      <td>9</td>\n      <td>26</td>\n      <td>2010</td>\n      <td>70</td>\n      <td>C</td>\n    </tr>\n    <tr>\n      <th>149</th>\n      <td>150</td>\n      <td>NaN</td>\n      <td>145.0</td>\n      <td>13.2</td>\n      <td>77</td>\n      <td>9</td>\n      <td>27</td>\n      <td>2010</td>\n      <td>77</td>\n      <td>PS</td>\n    </tr>\n    <tr>\n      <th>150</th>\n      <td>151</td>\n      <td>14.0</td>\n      <td>191.0</td>\n      <td>14.3</td>\n      <td>75</td>\n      <td>9</td>\n      <td>28</td>\n      <td>2010</td>\n      <td>75</td>\n      <td>S</td>\n    </tr>\n    <tr>\n      <th>151</th>\n      <td>152</td>\n      <td>18.0</td>\n      <td>131.0</td>\n      <td>8.0</td>\n      <td>76</td>\n      <td>9</td>\n      <td>29</td>\n      <td>2010</td>\n      <td>76</td>\n      <td>PS</td>\n    </tr>\n    <tr>\n      <th>152</th>\n      <td>153</td>\n      <td>20.0</td>\n      <td>223.0</td>\n      <td>11.5</td>\n      <td>68</td>\n      <td>9</td>\n      <td>30</td>\n      <td>2010</td>\n      <td>68</td>\n      <td>S</td>\n    </tr>\n    <tr>\n      <th>153</th>\n      <td>154</td>\n      <td>41.0</td>\n      <td>190.0</td>\n      <td>7.4</td>\n      <td>67</td>\n      <td>5</td>\n      <td>1</td>\n      <td>2010</td>\n      <td>67</td>\n      <td>C</td>\n    </tr>\n    <tr>\n      <th>154</th>\n      <td>155</td>\n      <td>30.0</td>\n      <td>193.0</td>\n      <td>6.9</td>\n      <td>70</td>\n      <td>9</td>\n      <td>26</td>\n      <td>2010</td>\n      <td>70</td>\n      <td>PS</td>\n    </tr>\n    <tr>\n      <th>155</th>\n      <td>156</td>\n      <td>NaN</td>\n      <td>145.0</td>\n      <td>13.2</td>\n      <td>77</td>\n      <td>9</td>\n      <td>27</td>\n      <td>2010</td>\n      <td>77</td>\n      <td>S</td>\n    </tr>\n    <tr>\n      <th>156</th>\n      <td>157</td>\n      <td>14.0</td>\n      <td>191.0</td>\n      <td>14.3</td>\n      <td>75</td>\n      <td>9</td>\n      <td>28</td>\n      <td>2010</td>\n      <td>75</td>\n      <td>S</td>\n    </tr>\n    <tr>\n      <th>157</th>\n      <td>158</td>\n      <td>18.0</td>\n      <td>131.0</td>\n      <td>8.0</td>\n      <td>76</td>\n      <td>9</td>\n      <td>29</td>\n      <td>2010</td>\n      <td>76</td>\n      <td>C</td>\n    </tr>\n  </tbody>\n</table>\n</div>"
          },
          "metadata": {}
        }
      ]
    },
    {
      "metadata": {
        "trusted": true
      },
      "cell_type": "code",
      "source": "data1",
      "execution_count": 8,
      "outputs": [
        {
          "output_type": "execute_result",
          "execution_count": 8,
          "data": {
            "text/plain": "     Unnamed: 0  Ozone  Solar.R  Wind Temp C Month  Day  Year  Temp Weather\n0             1   41.0    190.0   7.4     67     5    1  2010    67       S\n1             2   36.0    118.0   8.0     72     5    2  2010    72       C\n2             3   12.0    149.0  12.6     74     5    3  2010    74      PS\n3             4   18.0    313.0  11.5     62     5    4  2010    62       S\n4             5    NaN      NaN  14.3     56     5    5  2010    56       S\n..          ...    ...      ...   ...    ...   ...  ...   ...   ...     ...\n153         154   41.0    190.0   7.4     67     5    1  2010    67       C\n154         155   30.0    193.0   6.9     70     9   26  2010    70      PS\n155         156    NaN    145.0  13.2     77     9   27  2010    77       S\n156         157   14.0    191.0  14.3     75     9   28  2010    75       S\n157         158   18.0    131.0   8.0     76     9   29  2010    76       C\n\n[158 rows x 10 columns]",
            "text/html": "<div>\n<style scoped>\n    .dataframe tbody tr th:only-of-type {\n        vertical-align: middle;\n    }\n\n    .dataframe tbody tr th {\n        vertical-align: top;\n    }\n\n    .dataframe thead th {\n        text-align: right;\n    }\n</style>\n<table border=\"1\" class=\"dataframe\">\n  <thead>\n    <tr style=\"text-align: right;\">\n      <th></th>\n      <th>Unnamed: 0</th>\n      <th>Ozone</th>\n      <th>Solar.R</th>\n      <th>Wind</th>\n      <th>Temp C</th>\n      <th>Month</th>\n      <th>Day</th>\n      <th>Year</th>\n      <th>Temp</th>\n      <th>Weather</th>\n    </tr>\n  </thead>\n  <tbody>\n    <tr>\n      <th>0</th>\n      <td>1</td>\n      <td>41.0</td>\n      <td>190.0</td>\n      <td>7.4</td>\n      <td>67</td>\n      <td>5</td>\n      <td>1</td>\n      <td>2010</td>\n      <td>67</td>\n      <td>S</td>\n    </tr>\n    <tr>\n      <th>1</th>\n      <td>2</td>\n      <td>36.0</td>\n      <td>118.0</td>\n      <td>8.0</td>\n      <td>72</td>\n      <td>5</td>\n      <td>2</td>\n      <td>2010</td>\n      <td>72</td>\n      <td>C</td>\n    </tr>\n    <tr>\n      <th>2</th>\n      <td>3</td>\n      <td>12.0</td>\n      <td>149.0</td>\n      <td>12.6</td>\n      <td>74</td>\n      <td>5</td>\n      <td>3</td>\n      <td>2010</td>\n      <td>74</td>\n      <td>PS</td>\n    </tr>\n    <tr>\n      <th>3</th>\n      <td>4</td>\n      <td>18.0</td>\n      <td>313.0</td>\n      <td>11.5</td>\n      <td>62</td>\n      <td>5</td>\n      <td>4</td>\n      <td>2010</td>\n      <td>62</td>\n      <td>S</td>\n    </tr>\n    <tr>\n      <th>4</th>\n      <td>5</td>\n      <td>NaN</td>\n      <td>NaN</td>\n      <td>14.3</td>\n      <td>56</td>\n      <td>5</td>\n      <td>5</td>\n      <td>2010</td>\n      <td>56</td>\n      <td>S</td>\n    </tr>\n    <tr>\n      <th>...</th>\n      <td>...</td>\n      <td>...</td>\n      <td>...</td>\n      <td>...</td>\n      <td>...</td>\n      <td>...</td>\n      <td>...</td>\n      <td>...</td>\n      <td>...</td>\n      <td>...</td>\n    </tr>\n    <tr>\n      <th>153</th>\n      <td>154</td>\n      <td>41.0</td>\n      <td>190.0</td>\n      <td>7.4</td>\n      <td>67</td>\n      <td>5</td>\n      <td>1</td>\n      <td>2010</td>\n      <td>67</td>\n      <td>C</td>\n    </tr>\n    <tr>\n      <th>154</th>\n      <td>155</td>\n      <td>30.0</td>\n      <td>193.0</td>\n      <td>6.9</td>\n      <td>70</td>\n      <td>9</td>\n      <td>26</td>\n      <td>2010</td>\n      <td>70</td>\n      <td>PS</td>\n    </tr>\n    <tr>\n      <th>155</th>\n      <td>156</td>\n      <td>NaN</td>\n      <td>145.0</td>\n      <td>13.2</td>\n      <td>77</td>\n      <td>9</td>\n      <td>27</td>\n      <td>2010</td>\n      <td>77</td>\n      <td>S</td>\n    </tr>\n    <tr>\n      <th>156</th>\n      <td>157</td>\n      <td>14.0</td>\n      <td>191.0</td>\n      <td>14.3</td>\n      <td>75</td>\n      <td>9</td>\n      <td>28</td>\n      <td>2010</td>\n      <td>75</td>\n      <td>S</td>\n    </tr>\n    <tr>\n      <th>157</th>\n      <td>158</td>\n      <td>18.0</td>\n      <td>131.0</td>\n      <td>8.0</td>\n      <td>76</td>\n      <td>9</td>\n      <td>29</td>\n      <td>2010</td>\n      <td>76</td>\n      <td>C</td>\n    </tr>\n  </tbody>\n</table>\n<p>158 rows × 10 columns</p>\n</div>"
          },
          "metadata": {}
        }
      ]
    },
    {
      "metadata": {
        "trusted": true
      },
      "cell_type": "code",
      "source": "#Data Structure \ntype(data1)\ndata1.shape",
      "execution_count": 9,
      "outputs": [
        {
          "output_type": "execute_result",
          "execution_count": 9,
          "data": {
            "text/plain": "(158, 10)"
          },
          "metadata": {}
        }
      ]
    },
    {
      "metadata": {
        "trusted": true
      },
      "cell_type": "code",
      "source": "#data types\ndata1.dtypes",
      "execution_count": 10,
      "outputs": [
        {
          "output_type": "execute_result",
          "execution_count": 10,
          "data": {
            "text/plain": "Unnamed: 0      int64\nOzone         float64\nSolar.R       float64\nWind          float64\nTemp C         object\nMonth          object\nDay             int64\nYear            int64\nTemp            int64\nWeather        object\ndtype: object"
          },
          "metadata": {}
        }
      ]
    },
    {
      "metadata": {},
      "cell_type": "markdown",
      "source": "# Data type conversion"
    },
    {
      "metadata": {
        "trusted": true
      },
      "cell_type": "code",
      "source": "data1.info()",
      "execution_count": 11,
      "outputs": [
        {
          "output_type": "stream",
          "text": "<class 'pandas.core.frame.DataFrame'>\nRangeIndex: 158 entries, 0 to 157\nData columns (total 10 columns):\n #   Column      Non-Null Count  Dtype  \n---  ------      --------------  -----  \n 0   Unnamed: 0  158 non-null    int64  \n 1   Ozone       120 non-null    float64\n 2   Solar.R     151 non-null    float64\n 3   Wind        158 non-null    float64\n 4   Temp C      158 non-null    object \n 5   Month       158 non-null    object \n 6   Day         158 non-null    int64  \n 7   Year        158 non-null    int64  \n 8   Temp        158 non-null    int64  \n 9   Weather     155 non-null    object \ndtypes: float64(3), int64(4), object(3)\nmemory usage: 12.5+ KB\n",
          "name": "stdout"
        }
      ]
    },
    {
      "metadata": {
        "trusted": true
      },
      "cell_type": "code",
      "source": "data2=data1.iloc[:,1:]",
      "execution_count": 12,
      "outputs": []
    },
    {
      "metadata": {
        "trusted": true
      },
      "cell_type": "code",
      "source": "#The method .copy() is used here so that any changes made in new DataFrame don't get reflected in the original one\ndata=data2.copy()",
      "execution_count": 13,
      "outputs": []
    },
    {
      "metadata": {
        "trusted": true
      },
      "cell_type": "code",
      "source": "data['Month']=pd.to_numeric(data['Month'],errors='coerce')\ndata['Temp C']=pd.to_numeric(data['Temp C'],errors='coerce')# coerce will introduce NA values for non numeric data in the columns\ndata['Weather']=data['Weather'].astype('category')           #data['Wind']=data['Wind'].astype('int64')",
      "execution_count": 15,
      "outputs": []
    },
    {
      "metadata": {
        "trusted": true
      },
      "cell_type": "code",
      "source": "data.info()",
      "execution_count": 16,
      "outputs": [
        {
          "output_type": "stream",
          "text": "<class 'pandas.core.frame.DataFrame'>\nRangeIndex: 158 entries, 0 to 157\nData columns (total 9 columns):\n #   Column   Non-Null Count  Dtype   \n---  ------   --------------  -----   \n 0   Ozone    120 non-null    float64 \n 1   Solar.R  151 non-null    float64 \n 2   Wind     158 non-null    float64 \n 3   Temp C   157 non-null    float64 \n 4   Month    157 non-null    float64 \n 5   Day      158 non-null    int64   \n 6   Year     158 non-null    int64   \n 7   Temp     158 non-null    int64   \n 8   Weather  155 non-null    category\ndtypes: category(1), float64(5), int64(3)\nmemory usage: 10.3 KB\n",
          "name": "stdout"
        }
      ]
    },
    {
      "metadata": {},
      "cell_type": "markdown",
      "source": "# Duplicates"
    },
    {
      "metadata": {
        "trusted": true
      },
      "cell_type": "code",
      "source": "#Count of duplicated rows\ndata[data.duplicated()].shape",
      "execution_count": 17,
      "outputs": [
        {
          "output_type": "execute_result",
          "execution_count": 17,
          "data": {
            "text/plain": "(1, 9)"
          },
          "metadata": {}
        }
      ]
    },
    {
      "metadata": {
        "trusted": true
      },
      "cell_type": "code",
      "source": "data",
      "execution_count": 18,
      "outputs": [
        {
          "output_type": "execute_result",
          "execution_count": 18,
          "data": {
            "text/plain": "     Ozone  Solar.R  Wind  Temp C  Month  Day  Year  Temp Weather\n0     41.0    190.0   7.4    67.0    5.0    1  2010    67       S\n1     36.0    118.0   8.0    72.0    5.0    2  2010    72       C\n2     12.0    149.0  12.6    74.0    5.0    3  2010    74      PS\n3     18.0    313.0  11.5    62.0    5.0    4  2010    62       S\n4      NaN      NaN  14.3    56.0    5.0    5  2010    56       S\n..     ...      ...   ...     ...    ...  ...   ...   ...     ...\n153   41.0    190.0   7.4    67.0    5.0    1  2010    67       C\n154   30.0    193.0   6.9    70.0    9.0   26  2010    70      PS\n155    NaN    145.0  13.2    77.0    9.0   27  2010    77       S\n156   14.0    191.0  14.3    75.0    9.0   28  2010    75       S\n157   18.0    131.0   8.0    76.0    9.0   29  2010    76       C\n\n[158 rows x 9 columns]",
            "text/html": "<div>\n<style scoped>\n    .dataframe tbody tr th:only-of-type {\n        vertical-align: middle;\n    }\n\n    .dataframe tbody tr th {\n        vertical-align: top;\n    }\n\n    .dataframe thead th {\n        text-align: right;\n    }\n</style>\n<table border=\"1\" class=\"dataframe\">\n  <thead>\n    <tr style=\"text-align: right;\">\n      <th></th>\n      <th>Ozone</th>\n      <th>Solar.R</th>\n      <th>Wind</th>\n      <th>Temp C</th>\n      <th>Month</th>\n      <th>Day</th>\n      <th>Year</th>\n      <th>Temp</th>\n      <th>Weather</th>\n    </tr>\n  </thead>\n  <tbody>\n    <tr>\n      <th>0</th>\n      <td>41.0</td>\n      <td>190.0</td>\n      <td>7.4</td>\n      <td>67.0</td>\n      <td>5.0</td>\n      <td>1</td>\n      <td>2010</td>\n      <td>67</td>\n      <td>S</td>\n    </tr>\n    <tr>\n      <th>1</th>\n      <td>36.0</td>\n      <td>118.0</td>\n      <td>8.0</td>\n      <td>72.0</td>\n      <td>5.0</td>\n      <td>2</td>\n      <td>2010</td>\n      <td>72</td>\n      <td>C</td>\n    </tr>\n    <tr>\n      <th>2</th>\n      <td>12.0</td>\n      <td>149.0</td>\n      <td>12.6</td>\n      <td>74.0</td>\n      <td>5.0</td>\n      <td>3</td>\n      <td>2010</td>\n      <td>74</td>\n      <td>PS</td>\n    </tr>\n    <tr>\n      <th>3</th>\n      <td>18.0</td>\n      <td>313.0</td>\n      <td>11.5</td>\n      <td>62.0</td>\n      <td>5.0</td>\n      <td>4</td>\n      <td>2010</td>\n      <td>62</td>\n      <td>S</td>\n    </tr>\n    <tr>\n      <th>4</th>\n      <td>NaN</td>\n      <td>NaN</td>\n      <td>14.3</td>\n      <td>56.0</td>\n      <td>5.0</td>\n      <td>5</td>\n      <td>2010</td>\n      <td>56</td>\n      <td>S</td>\n    </tr>\n    <tr>\n      <th>...</th>\n      <td>...</td>\n      <td>...</td>\n      <td>...</td>\n      <td>...</td>\n      <td>...</td>\n      <td>...</td>\n      <td>...</td>\n      <td>...</td>\n      <td>...</td>\n    </tr>\n    <tr>\n      <th>153</th>\n      <td>41.0</td>\n      <td>190.0</td>\n      <td>7.4</td>\n      <td>67.0</td>\n      <td>5.0</td>\n      <td>1</td>\n      <td>2010</td>\n      <td>67</td>\n      <td>C</td>\n    </tr>\n    <tr>\n      <th>154</th>\n      <td>30.0</td>\n      <td>193.0</td>\n      <td>6.9</td>\n      <td>70.0</td>\n      <td>9.0</td>\n      <td>26</td>\n      <td>2010</td>\n      <td>70</td>\n      <td>PS</td>\n    </tr>\n    <tr>\n      <th>155</th>\n      <td>NaN</td>\n      <td>145.0</td>\n      <td>13.2</td>\n      <td>77.0</td>\n      <td>9.0</td>\n      <td>27</td>\n      <td>2010</td>\n      <td>77</td>\n      <td>S</td>\n    </tr>\n    <tr>\n      <th>156</th>\n      <td>14.0</td>\n      <td>191.0</td>\n      <td>14.3</td>\n      <td>75.0</td>\n      <td>9.0</td>\n      <td>28</td>\n      <td>2010</td>\n      <td>75</td>\n      <td>S</td>\n    </tr>\n    <tr>\n      <th>157</th>\n      <td>18.0</td>\n      <td>131.0</td>\n      <td>8.0</td>\n      <td>76.0</td>\n      <td>9.0</td>\n      <td>29</td>\n      <td>2010</td>\n      <td>76</td>\n      <td>C</td>\n    </tr>\n  </tbody>\n</table>\n<p>158 rows × 9 columns</p>\n</div>"
          },
          "metadata": {}
        }
      ]
    },
    {
      "metadata": {
        "trusted": true
      },
      "cell_type": "code",
      "source": "#Print the duplicated rows\ndata[data.duplicated()]",
      "execution_count": 19,
      "outputs": [
        {
          "output_type": "execute_result",
          "execution_count": 19,
          "data": {
            "text/plain": "     Ozone  Solar.R  Wind  Temp C  Month  Day  Year  Temp Weather\n156   14.0    191.0  14.3    75.0    9.0   28  2010    75       S",
            "text/html": "<div>\n<style scoped>\n    .dataframe tbody tr th:only-of-type {\n        vertical-align: middle;\n    }\n\n    .dataframe tbody tr th {\n        vertical-align: top;\n    }\n\n    .dataframe thead th {\n        text-align: right;\n    }\n</style>\n<table border=\"1\" class=\"dataframe\">\n  <thead>\n    <tr style=\"text-align: right;\">\n      <th></th>\n      <th>Ozone</th>\n      <th>Solar.R</th>\n      <th>Wind</th>\n      <th>Temp C</th>\n      <th>Month</th>\n      <th>Day</th>\n      <th>Year</th>\n      <th>Temp</th>\n      <th>Weather</th>\n    </tr>\n  </thead>\n  <tbody>\n    <tr>\n      <th>156</th>\n      <td>14.0</td>\n      <td>191.0</td>\n      <td>14.3</td>\n      <td>75.0</td>\n      <td>9.0</td>\n      <td>28</td>\n      <td>2010</td>\n      <td>75</td>\n      <td>S</td>\n    </tr>\n  </tbody>\n</table>\n</div>"
          },
          "metadata": {}
        }
      ]
    },
    {
      "metadata": {
        "trusted": true
      },
      "cell_type": "code",
      "source": "data_cleaned1=data.drop_duplicates()",
      "execution_count": 20,
      "outputs": []
    },
    {
      "metadata": {
        "trusted": true
      },
      "cell_type": "code",
      "source": "data_cleaned1",
      "execution_count": 21,
      "outputs": [
        {
          "output_type": "execute_result",
          "execution_count": 21,
          "data": {
            "text/plain": "     Ozone  Solar.R  Wind  Temp C  Month  Day  Year  Temp Weather\n0     41.0    190.0   7.4    67.0    5.0    1  2010    67       S\n1     36.0    118.0   8.0    72.0    5.0    2  2010    72       C\n2     12.0    149.0  12.6    74.0    5.0    3  2010    74      PS\n3     18.0    313.0  11.5    62.0    5.0    4  2010    62       S\n4      NaN      NaN  14.3    56.0    5.0    5  2010    56       S\n..     ...      ...   ...     ...    ...  ...   ...   ...     ...\n152   20.0    223.0  11.5    68.0    9.0   30  2010    68       S\n153   41.0    190.0   7.4    67.0    5.0    1  2010    67       C\n154   30.0    193.0   6.9    70.0    9.0   26  2010    70      PS\n155    NaN    145.0  13.2    77.0    9.0   27  2010    77       S\n157   18.0    131.0   8.0    76.0    9.0   29  2010    76       C\n\n[157 rows x 9 columns]",
            "text/html": "<div>\n<style scoped>\n    .dataframe tbody tr th:only-of-type {\n        vertical-align: middle;\n    }\n\n    .dataframe tbody tr th {\n        vertical-align: top;\n    }\n\n    .dataframe thead th {\n        text-align: right;\n    }\n</style>\n<table border=\"1\" class=\"dataframe\">\n  <thead>\n    <tr style=\"text-align: right;\">\n      <th></th>\n      <th>Ozone</th>\n      <th>Solar.R</th>\n      <th>Wind</th>\n      <th>Temp C</th>\n      <th>Month</th>\n      <th>Day</th>\n      <th>Year</th>\n      <th>Temp</th>\n      <th>Weather</th>\n    </tr>\n  </thead>\n  <tbody>\n    <tr>\n      <th>0</th>\n      <td>41.0</td>\n      <td>190.0</td>\n      <td>7.4</td>\n      <td>67.0</td>\n      <td>5.0</td>\n      <td>1</td>\n      <td>2010</td>\n      <td>67</td>\n      <td>S</td>\n    </tr>\n    <tr>\n      <th>1</th>\n      <td>36.0</td>\n      <td>118.0</td>\n      <td>8.0</td>\n      <td>72.0</td>\n      <td>5.0</td>\n      <td>2</td>\n      <td>2010</td>\n      <td>72</td>\n      <td>C</td>\n    </tr>\n    <tr>\n      <th>2</th>\n      <td>12.0</td>\n      <td>149.0</td>\n      <td>12.6</td>\n      <td>74.0</td>\n      <td>5.0</td>\n      <td>3</td>\n      <td>2010</td>\n      <td>74</td>\n      <td>PS</td>\n    </tr>\n    <tr>\n      <th>3</th>\n      <td>18.0</td>\n      <td>313.0</td>\n      <td>11.5</td>\n      <td>62.0</td>\n      <td>5.0</td>\n      <td>4</td>\n      <td>2010</td>\n      <td>62</td>\n      <td>S</td>\n    </tr>\n    <tr>\n      <th>4</th>\n      <td>NaN</td>\n      <td>NaN</td>\n      <td>14.3</td>\n      <td>56.0</td>\n      <td>5.0</td>\n      <td>5</td>\n      <td>2010</td>\n      <td>56</td>\n      <td>S</td>\n    </tr>\n    <tr>\n      <th>...</th>\n      <td>...</td>\n      <td>...</td>\n      <td>...</td>\n      <td>...</td>\n      <td>...</td>\n      <td>...</td>\n      <td>...</td>\n      <td>...</td>\n      <td>...</td>\n    </tr>\n    <tr>\n      <th>152</th>\n      <td>20.0</td>\n      <td>223.0</td>\n      <td>11.5</td>\n      <td>68.0</td>\n      <td>9.0</td>\n      <td>30</td>\n      <td>2010</td>\n      <td>68</td>\n      <td>S</td>\n    </tr>\n    <tr>\n      <th>153</th>\n      <td>41.0</td>\n      <td>190.0</td>\n      <td>7.4</td>\n      <td>67.0</td>\n      <td>5.0</td>\n      <td>1</td>\n      <td>2010</td>\n      <td>67</td>\n      <td>C</td>\n    </tr>\n    <tr>\n      <th>154</th>\n      <td>30.0</td>\n      <td>193.0</td>\n      <td>6.9</td>\n      <td>70.0</td>\n      <td>9.0</td>\n      <td>26</td>\n      <td>2010</td>\n      <td>70</td>\n      <td>PS</td>\n    </tr>\n    <tr>\n      <th>155</th>\n      <td>NaN</td>\n      <td>145.0</td>\n      <td>13.2</td>\n      <td>77.0</td>\n      <td>9.0</td>\n      <td>27</td>\n      <td>2010</td>\n      <td>77</td>\n      <td>S</td>\n    </tr>\n    <tr>\n      <th>157</th>\n      <td>18.0</td>\n      <td>131.0</td>\n      <td>8.0</td>\n      <td>76.0</td>\n      <td>9.0</td>\n      <td>29</td>\n      <td>2010</td>\n      <td>76</td>\n      <td>C</td>\n    </tr>\n  </tbody>\n</table>\n<p>157 rows × 9 columns</p>\n</div>"
          },
          "metadata": {}
        }
      ]
    },
    {
      "metadata": {},
      "cell_type": "markdown",
      "source": "# Drop columns"
    },
    {
      "metadata": {
        "trusted": true
      },
      "cell_type": "code",
      "source": "data_cleaned2=data_cleaned1.drop('Temp C',axis=1)",
      "execution_count": 22,
      "outputs": []
    },
    {
      "metadata": {
        "trusted": true
      },
      "cell_type": "code",
      "source": "data_cleaned2",
      "execution_count": 23,
      "outputs": [
        {
          "output_type": "execute_result",
          "execution_count": 23,
          "data": {
            "text/plain": "     Ozone  Solar.R  Wind  Month  Day  Year  Temp Weather\n0     41.0    190.0   7.4    5.0    1  2010    67       S\n1     36.0    118.0   8.0    5.0    2  2010    72       C\n2     12.0    149.0  12.6    5.0    3  2010    74      PS\n3     18.0    313.0  11.5    5.0    4  2010    62       S\n4      NaN      NaN  14.3    5.0    5  2010    56       S\n..     ...      ...   ...    ...  ...   ...   ...     ...\n152   20.0    223.0  11.5    9.0   30  2010    68       S\n153   41.0    190.0   7.4    5.0    1  2010    67       C\n154   30.0    193.0   6.9    9.0   26  2010    70      PS\n155    NaN    145.0  13.2    9.0   27  2010    77       S\n157   18.0    131.0   8.0    9.0   29  2010    76       C\n\n[157 rows x 8 columns]",
            "text/html": "<div>\n<style scoped>\n    .dataframe tbody tr th:only-of-type {\n        vertical-align: middle;\n    }\n\n    .dataframe tbody tr th {\n        vertical-align: top;\n    }\n\n    .dataframe thead th {\n        text-align: right;\n    }\n</style>\n<table border=\"1\" class=\"dataframe\">\n  <thead>\n    <tr style=\"text-align: right;\">\n      <th></th>\n      <th>Ozone</th>\n      <th>Solar.R</th>\n      <th>Wind</th>\n      <th>Month</th>\n      <th>Day</th>\n      <th>Year</th>\n      <th>Temp</th>\n      <th>Weather</th>\n    </tr>\n  </thead>\n  <tbody>\n    <tr>\n      <th>0</th>\n      <td>41.0</td>\n      <td>190.0</td>\n      <td>7.4</td>\n      <td>5.0</td>\n      <td>1</td>\n      <td>2010</td>\n      <td>67</td>\n      <td>S</td>\n    </tr>\n    <tr>\n      <th>1</th>\n      <td>36.0</td>\n      <td>118.0</td>\n      <td>8.0</td>\n      <td>5.0</td>\n      <td>2</td>\n      <td>2010</td>\n      <td>72</td>\n      <td>C</td>\n    </tr>\n    <tr>\n      <th>2</th>\n      <td>12.0</td>\n      <td>149.0</td>\n      <td>12.6</td>\n      <td>5.0</td>\n      <td>3</td>\n      <td>2010</td>\n      <td>74</td>\n      <td>PS</td>\n    </tr>\n    <tr>\n      <th>3</th>\n      <td>18.0</td>\n      <td>313.0</td>\n      <td>11.5</td>\n      <td>5.0</td>\n      <td>4</td>\n      <td>2010</td>\n      <td>62</td>\n      <td>S</td>\n    </tr>\n    <tr>\n      <th>4</th>\n      <td>NaN</td>\n      <td>NaN</td>\n      <td>14.3</td>\n      <td>5.0</td>\n      <td>5</td>\n      <td>2010</td>\n      <td>56</td>\n      <td>S</td>\n    </tr>\n    <tr>\n      <th>...</th>\n      <td>...</td>\n      <td>...</td>\n      <td>...</td>\n      <td>...</td>\n      <td>...</td>\n      <td>...</td>\n      <td>...</td>\n      <td>...</td>\n    </tr>\n    <tr>\n      <th>152</th>\n      <td>20.0</td>\n      <td>223.0</td>\n      <td>11.5</td>\n      <td>9.0</td>\n      <td>30</td>\n      <td>2010</td>\n      <td>68</td>\n      <td>S</td>\n    </tr>\n    <tr>\n      <th>153</th>\n      <td>41.0</td>\n      <td>190.0</td>\n      <td>7.4</td>\n      <td>5.0</td>\n      <td>1</td>\n      <td>2010</td>\n      <td>67</td>\n      <td>C</td>\n    </tr>\n    <tr>\n      <th>154</th>\n      <td>30.0</td>\n      <td>193.0</td>\n      <td>6.9</td>\n      <td>9.0</td>\n      <td>26</td>\n      <td>2010</td>\n      <td>70</td>\n      <td>PS</td>\n    </tr>\n    <tr>\n      <th>155</th>\n      <td>NaN</td>\n      <td>145.0</td>\n      <td>13.2</td>\n      <td>9.0</td>\n      <td>27</td>\n      <td>2010</td>\n      <td>77</td>\n      <td>S</td>\n    </tr>\n    <tr>\n      <th>157</th>\n      <td>18.0</td>\n      <td>131.0</td>\n      <td>8.0</td>\n      <td>9.0</td>\n      <td>29</td>\n      <td>2010</td>\n      <td>76</td>\n      <td>C</td>\n    </tr>\n  </tbody>\n</table>\n<p>157 rows × 8 columns</p>\n</div>"
          },
          "metadata": {}
        }
      ]
    },
    {
      "metadata": {},
      "cell_type": "markdown",
      "source": "# Rename the columns"
    },
    {
      "metadata": {
        "trusted": true
      },
      "cell_type": "code",
      "source": "#rename the Solar column\ndata_cleaned3 = data_cleaned2.rename({'Solar.R': 'Solar'}, axis=1)",
      "execution_count": 24,
      "outputs": []
    },
    {
      "metadata": {
        "trusted": true
      },
      "cell_type": "code",
      "source": "data_cleaned3",
      "execution_count": 25,
      "outputs": [
        {
          "output_type": "execute_result",
          "execution_count": 25,
          "data": {
            "text/plain": "     Ozone  Solar  Wind  Month  Day  Year  Temp Weather\n0     41.0  190.0   7.4    5.0    1  2010    67       S\n1     36.0  118.0   8.0    5.0    2  2010    72       C\n2     12.0  149.0  12.6    5.0    3  2010    74      PS\n3     18.0  313.0  11.5    5.0    4  2010    62       S\n4      NaN    NaN  14.3    5.0    5  2010    56       S\n..     ...    ...   ...    ...  ...   ...   ...     ...\n152   20.0  223.0  11.5    9.0   30  2010    68       S\n153   41.0  190.0   7.4    5.0    1  2010    67       C\n154   30.0  193.0   6.9    9.0   26  2010    70      PS\n155    NaN  145.0  13.2    9.0   27  2010    77       S\n157   18.0  131.0   8.0    9.0   29  2010    76       C\n\n[157 rows x 8 columns]",
            "text/html": "<div>\n<style scoped>\n    .dataframe tbody tr th:only-of-type {\n        vertical-align: middle;\n    }\n\n    .dataframe tbody tr th {\n        vertical-align: top;\n    }\n\n    .dataframe thead th {\n        text-align: right;\n    }\n</style>\n<table border=\"1\" class=\"dataframe\">\n  <thead>\n    <tr style=\"text-align: right;\">\n      <th></th>\n      <th>Ozone</th>\n      <th>Solar</th>\n      <th>Wind</th>\n      <th>Month</th>\n      <th>Day</th>\n      <th>Year</th>\n      <th>Temp</th>\n      <th>Weather</th>\n    </tr>\n  </thead>\n  <tbody>\n    <tr>\n      <th>0</th>\n      <td>41.0</td>\n      <td>190.0</td>\n      <td>7.4</td>\n      <td>5.0</td>\n      <td>1</td>\n      <td>2010</td>\n      <td>67</td>\n      <td>S</td>\n    </tr>\n    <tr>\n      <th>1</th>\n      <td>36.0</td>\n      <td>118.0</td>\n      <td>8.0</td>\n      <td>5.0</td>\n      <td>2</td>\n      <td>2010</td>\n      <td>72</td>\n      <td>C</td>\n    </tr>\n    <tr>\n      <th>2</th>\n      <td>12.0</td>\n      <td>149.0</td>\n      <td>12.6</td>\n      <td>5.0</td>\n      <td>3</td>\n      <td>2010</td>\n      <td>74</td>\n      <td>PS</td>\n    </tr>\n    <tr>\n      <th>3</th>\n      <td>18.0</td>\n      <td>313.0</td>\n      <td>11.5</td>\n      <td>5.0</td>\n      <td>4</td>\n      <td>2010</td>\n      <td>62</td>\n      <td>S</td>\n    </tr>\n    <tr>\n      <th>4</th>\n      <td>NaN</td>\n      <td>NaN</td>\n      <td>14.3</td>\n      <td>5.0</td>\n      <td>5</td>\n      <td>2010</td>\n      <td>56</td>\n      <td>S</td>\n    </tr>\n    <tr>\n      <th>...</th>\n      <td>...</td>\n      <td>...</td>\n      <td>...</td>\n      <td>...</td>\n      <td>...</td>\n      <td>...</td>\n      <td>...</td>\n      <td>...</td>\n    </tr>\n    <tr>\n      <th>152</th>\n      <td>20.0</td>\n      <td>223.0</td>\n      <td>11.5</td>\n      <td>9.0</td>\n      <td>30</td>\n      <td>2010</td>\n      <td>68</td>\n      <td>S</td>\n    </tr>\n    <tr>\n      <th>153</th>\n      <td>41.0</td>\n      <td>190.0</td>\n      <td>7.4</td>\n      <td>5.0</td>\n      <td>1</td>\n      <td>2010</td>\n      <td>67</td>\n      <td>C</td>\n    </tr>\n    <tr>\n      <th>154</th>\n      <td>30.0</td>\n      <td>193.0</td>\n      <td>6.9</td>\n      <td>9.0</td>\n      <td>26</td>\n      <td>2010</td>\n      <td>70</td>\n      <td>PS</td>\n    </tr>\n    <tr>\n      <th>155</th>\n      <td>NaN</td>\n      <td>145.0</td>\n      <td>13.2</td>\n      <td>9.0</td>\n      <td>27</td>\n      <td>2010</td>\n      <td>77</td>\n      <td>S</td>\n    </tr>\n    <tr>\n      <th>157</th>\n      <td>18.0</td>\n      <td>131.0</td>\n      <td>8.0</td>\n      <td>9.0</td>\n      <td>29</td>\n      <td>2010</td>\n      <td>76</td>\n      <td>C</td>\n    </tr>\n  </tbody>\n</table>\n<p>157 rows × 8 columns</p>\n</div>"
          },
          "metadata": {}
        }
      ]
    },
    {
      "metadata": {},
      "cell_type": "markdown",
      "source": "# Outlier Detection"
    },
    {
      "metadata": {
        "trusted": true
      },
      "cell_type": "code",
      "source": "# histogram of Ozone\ndata_cleaned3['Ozone'].hist()",
      "execution_count": 26,
      "outputs": [
        {
          "output_type": "execute_result",
          "execution_count": 26,
          "data": {
            "text/plain": "<matplotlib.axes._subplots.AxesSubplot at 0x12c1019f670>"
          },
          "metadata": {}
        },
        {
          "output_type": "display_data",
          "data": {
            "text/plain": "<Figure size 432x288 with 1 Axes>",
            "image/png": "[encoded data removed]"
          },
          "metadata": {
            "needs_background": "light"
          }
        }
      ]
    },
    {
      "metadata": {
        "trusted": true
      },
      "cell_type": "code",
      "source": "#Box plot\ndata_cleaned3.boxplot(column=['Ozone'])",
      "execution_count": 27,
      "outputs": [
        {
          "output_type": "execute_result",
          "execution_count": 27,
          "data": {
            "text/plain": "<matplotlib.axes._subplots.AxesSubplot at 0x12c10a4aac0>"
          },
          "metadata": {}
        },
        {
          "output_type": "display_data",
          "data": {
            "text/plain": "<Figure size 432x288 with 1 Axes>",
            "image/png": "[encoded data removed]"
          },
          "metadata": {
            "needs_background": "light"
          }
        }
      ]
    },
    {
      "metadata": {
        "trusted": true
      },
      "cell_type": "code",
      "source": "#Descriptive stat\ndata_cleaned3['Ozone'].describe()",
      "execution_count": 28,
      "outputs": [
        {
          "output_type": "execute_result",
          "execution_count": 28,
          "data": {
            "text/plain": "count    119.000000\nmean      41.815126\nstd       32.659249\nmin        1.000000\n25%       18.000000\n50%       31.000000\n75%       62.000000\nmax      168.000000\nName: Ozone, dtype: float64"
          },
          "metadata": {}
        }
      ]
    },
    {
      "metadata": {
        "trusted": true
      },
      "cell_type": "code",
      "source": "data_cleaned3",
      "execution_count": 29,
      "outputs": [
        {
          "output_type": "execute_result",
          "execution_count": 29,
          "data": {
            "text/plain": "     Ozone  Solar  Wind  Month  Day  Year  Temp Weather\n0     41.0  190.0   7.4    5.0    1  2010    67       S\n1     36.0  118.0   8.0    5.0    2  2010    72       C\n2     12.0  149.0  12.6    5.0    3  2010    74      PS\n3     18.0  313.0  11.5    5.0    4  2010    62       S\n4      NaN    NaN  14.3    5.0    5  2010    56       S\n..     ...    ...   ...    ...  ...   ...   ...     ...\n152   20.0  223.0  11.5    9.0   30  2010    68       S\n153   41.0  190.0   7.4    5.0    1  2010    67       C\n154   30.0  193.0   6.9    9.0   26  2010    70      PS\n155    NaN  145.0  13.2    9.0   27  2010    77       S\n157   18.0  131.0   8.0    9.0   29  2010    76       C\n\n[157 rows x 8 columns]",
            "text/html": "<div>\n<style scoped>\n    .dataframe tbody tr th:only-of-type {\n        vertical-align: middle;\n    }\n\n    .dataframe tbody tr th {\n        vertical-align: top;\n    }\n\n    .dataframe thead th {\n        text-align: right;\n    }\n</style>\n<table border=\"1\" class=\"dataframe\">\n  <thead>\n    <tr style=\"text-align: right;\">\n      <th></th>\n      <th>Ozone</th>\n      <th>Solar</th>\n      <th>Wind</th>\n      <th>Month</th>\n      <th>Day</th>\n      <th>Year</th>\n      <th>Temp</th>\n      <th>Weather</th>\n    </tr>\n  </thead>\n  <tbody>\n    <tr>\n      <th>0</th>\n      <td>41.0</td>\n      <td>190.0</td>\n      <td>7.4</td>\n      <td>5.0</td>\n      <td>1</td>\n      <td>2010</td>\n      <td>67</td>\n      <td>S</td>\n    </tr>\n    <tr>\n      <th>1</th>\n      <td>36.0</td>\n      <td>118.0</td>\n      <td>8.0</td>\n      <td>5.0</td>\n      <td>2</td>\n      <td>2010</td>\n      <td>72</td>\n      <td>C</td>\n    </tr>\n    <tr>\n      <th>2</th>\n      <td>12.0</td>\n      <td>149.0</td>\n      <td>12.6</td>\n      <td>5.0</td>\n      <td>3</td>\n      <td>2010</td>\n      <td>74</td>\n      <td>PS</td>\n    </tr>\n    <tr>\n      <th>3</th>\n      <td>18.0</td>\n      <td>313.0</td>\n      <td>11.5</td>\n      <td>5.0</td>\n      <td>4</td>\n      <td>2010</td>\n      <td>62</td>\n      <td>S</td>\n    </tr>\n    <tr>\n      <th>4</th>\n      <td>NaN</td>\n      <td>NaN</td>\n      <td>14.3</td>\n      <td>5.0</td>\n      <td>5</td>\n      <td>2010</td>\n      <td>56</td>\n      <td>S</td>\n    </tr>\n    <tr>\n      <th>...</th>\n      <td>...</td>\n      <td>...</td>\n      <td>...</td>\n      <td>...</td>\n      <td>...</td>\n      <td>...</td>\n      <td>...</td>\n      <td>...</td>\n    </tr>\n    <tr>\n      <th>152</th>\n      <td>20.0</td>\n      <td>223.0</td>\n      <td>11.5</td>\n      <td>9.0</td>\n      <td>30</td>\n      <td>2010</td>\n      <td>68</td>\n      <td>S</td>\n    </tr>\n    <tr>\n      <th>153</th>\n      <td>41.0</td>\n      <td>190.0</td>\n      <td>7.4</td>\n      <td>5.0</td>\n      <td>1</td>\n      <td>2010</td>\n      <td>67</td>\n      <td>C</td>\n    </tr>\n    <tr>\n      <th>154</th>\n      <td>30.0</td>\n      <td>193.0</td>\n      <td>6.9</td>\n      <td>9.0</td>\n      <td>26</td>\n      <td>2010</td>\n      <td>70</td>\n      <td>PS</td>\n    </tr>\n    <tr>\n      <th>155</th>\n      <td>NaN</td>\n      <td>145.0</td>\n      <td>13.2</td>\n      <td>9.0</td>\n      <td>27</td>\n      <td>2010</td>\n      <td>77</td>\n      <td>S</td>\n    </tr>\n    <tr>\n      <th>157</th>\n      <td>18.0</td>\n      <td>131.0</td>\n      <td>8.0</td>\n      <td>9.0</td>\n      <td>29</td>\n      <td>2010</td>\n      <td>76</td>\n      <td>C</td>\n    </tr>\n  </tbody>\n</table>\n<p>157 rows × 8 columns</p>\n</div>"
          },
          "metadata": {}
        }
      ]
    },
    {
      "metadata": {
        "trusted": true
      },
      "cell_type": "code",
      "source": "#Bar plot\ndata['Weather'].value_counts().plot.bar()",
      "execution_count": 30,
      "outputs": [
        {
          "output_type": "execute_result",
          "execution_count": 30,
          "data": {
            "text/plain": "<matplotlib.axes._subplots.AxesSubplot at 0x12c10aa00a0>"
          },
          "metadata": {}
        },
        {
          "output_type": "display_data",
          "data": {
            "text/plain": "<Figure size 432x288 with 1 Axes>",
            "image/png": "[encoded data removed]"
          },
          "metadata": {
            "needs_background": "light"
          }
        }
      ]
    },
    {
      "metadata": {},
      "cell_type": "markdown",
      "source": "# Missing Values and Imputation"
    },
    {
      "metadata": {
        "trusted": true
      },
      "cell_type": "code",
      "source": "import seaborn as sns\ncols = data_cleaned3.columns \ncolours = ['#000099', '#ffff00'] # specify the colours - yellow is missing. blue is not missing.\nsns.heatmap(data_cleaned3[cols].isnull(),\n            cmap=sns.color_palette(colours))",
      "execution_count": 31,
      "outputs": [
        {
          "output_type": "execute_result",
          "execution_count": 31,
          "data": {
            "text/plain": "<matplotlib.axes._subplots.AxesSubplot at 0x12c10b591f0>"
          },
          "metadata": {}
        },
        {
          "output_type": "display_data",
          "data": {
            "text/plain": "<Figure size 432x288 with 2 Axes>",
            "image/png": "[encoded data removed]"
          },
          "metadata": {
            "needs_background": "light"
          }
        }
      ]
    },
    {
      "metadata": {
        "trusted": true
      },
      "cell_type": "code",
      "source": "data_cleaned3[data_cleaned3.isnull().any(axis=1)].head()",
      "execution_count": 32,
      "outputs": [
        {
          "output_type": "execute_result",
          "execution_count": 32,
          "data": {
            "text/plain": "    Ozone  Solar  Wind  Month  Day  Year  Temp Weather\n4     NaN    NaN  14.3    5.0    5  2010    56       S\n5    28.0    NaN  14.9    5.0    6  2010    66       C\n9     NaN  194.0   8.6    5.0   10  2010    69       S\n10    7.0    NaN   6.9    5.0   11  2010    74       C\n23   32.0   92.0  12.0    NaN   24  2010    61       C",
            "text/html": "<div>\n<style scoped>\n    .dataframe tbody tr th:only-of-type {\n        vertical-align: middle;\n    }\n\n    .dataframe tbody tr th {\n        vertical-align: top;\n    }\n\n    .dataframe thead th {\n        text-align: right;\n    }\n</style>\n<table border=\"1\" class=\"dataframe\">\n  <thead>\n    <tr style=\"text-align: right;\">\n      <th></th>\n      <th>Ozone</th>\n      <th>Solar</th>\n      <th>Wind</th>\n      <th>Month</th>\n      <th>Day</th>\n      <th>Year</th>\n      <th>Temp</th>\n      <th>Weather</th>\n    </tr>\n  </thead>\n  <tbody>\n    <tr>\n      <th>4</th>\n      <td>NaN</td>\n      <td>NaN</td>\n      <td>14.3</td>\n      <td>5.0</td>\n      <td>5</td>\n      <td>2010</td>\n      <td>56</td>\n      <td>S</td>\n    </tr>\n    <tr>\n      <th>5</th>\n      <td>28.0</td>\n      <td>NaN</td>\n      <td>14.9</td>\n      <td>5.0</td>\n      <td>6</td>\n      <td>2010</td>\n      <td>66</td>\n      <td>C</td>\n    </tr>\n    <tr>\n      <th>9</th>\n      <td>NaN</td>\n      <td>194.0</td>\n      <td>8.6</td>\n      <td>5.0</td>\n      <td>10</td>\n      <td>2010</td>\n      <td>69</td>\n      <td>S</td>\n    </tr>\n    <tr>\n      <th>10</th>\n      <td>7.0</td>\n      <td>NaN</td>\n      <td>6.9</td>\n      <td>5.0</td>\n      <td>11</td>\n      <td>2010</td>\n      <td>74</td>\n      <td>C</td>\n    </tr>\n    <tr>\n      <th>23</th>\n      <td>32.0</td>\n      <td>92.0</td>\n      <td>12.0</td>\n      <td>NaN</td>\n      <td>24</td>\n      <td>2010</td>\n      <td>61</td>\n      <td>C</td>\n    </tr>\n  </tbody>\n</table>\n</div>"
          },
          "metadata": {}
        }
      ]
    },
    {
      "metadata": {
        "trusted": true
      },
      "cell_type": "code",
      "source": "data_cleaned3.isnull().sum()",
      "execution_count": 33,
      "outputs": [
        {
          "output_type": "execute_result",
          "execution_count": 33,
          "data": {
            "text/plain": "Ozone      38\nSolar       7\nWind        0\nMonth       1\nDay         0\nYear        0\nTemp        0\nWeather     3\ndtype: int64"
          },
          "metadata": {}
        }
      ]
    },
    {
      "metadata": {
        "trusted": true
      },
      "cell_type": "code",
      "source": "#Mean Imputation\nmean = data_cleaned3['Ozone'].mean()\nprint(mean)",
      "execution_count": 34,
      "outputs": [
        {
          "output_type": "stream",
          "text": "41.81512605042017\n",
          "name": "stdout"
        }
      ]
    },
    {
      "metadata": {
        "trusted": true
      },
      "cell_type": "code",
      "source": "data_cleaned3['Ozone'] = data_cleaned3['Ozone'].fillna(mean)",
      "execution_count": 35,
      "outputs": []
    },
    {
      "metadata": {
        "trusted": true
      },
      "cell_type": "code",
      "source": "data_cleaned3",
      "execution_count": 36,
      "outputs": [
        {
          "output_type": "execute_result",
          "execution_count": 36,
          "data": {
            "text/plain": "         Ozone  Solar  Wind  Month  Day  Year  Temp Weather\n0    41.000000  190.0   7.4    5.0    1  2010    67       S\n1    36.000000  118.0   8.0    5.0    2  2010    72       C\n2    12.000000  149.0  12.6    5.0    3  2010    74      PS\n3    18.000000  313.0  11.5    5.0    4  2010    62       S\n4    41.815126    NaN  14.3    5.0    5  2010    56       S\n..         ...    ...   ...    ...  ...   ...   ...     ...\n152  20.000000  223.0  11.5    9.0   30  2010    68       S\n153  41.000000  190.0   7.4    5.0    1  2010    67       C\n154  30.000000  193.0   6.9    9.0   26  2010    70      PS\n155  41.815126  145.0  13.2    9.0   27  2010    77       S\n157  18.000000  131.0   8.0    9.0   29  2010    76       C\n\n[157 rows x 8 columns]",
            "text/html": "<div>\n<style scoped>\n    .dataframe tbody tr th:only-of-type {\n        vertical-align: middle;\n    }\n\n    .dataframe tbody tr th {\n        vertical-align: top;\n    }\n\n    .dataframe thead th {\n        text-align: right;\n    }\n</style>\n<table border=\"1\" class=\"dataframe\">\n  <thead>\n    <tr style=\"text-align: right;\">\n      <th></th>\n      <th>Ozone</th>\n      <th>Solar</th>\n      <th>Wind</th>\n      <th>Month</th>\n      <th>Day</th>\n      <th>Year</th>\n      <th>Temp</th>\n      <th>Weather</th>\n    </tr>\n  </thead>\n  <tbody>\n    <tr>\n      <th>0</th>\n      <td>41.000000</td>\n      <td>190.0</td>\n      <td>7.4</td>\n      <td>5.0</td>\n      <td>1</td>\n      <td>2010</td>\n      <td>67</td>\n      <td>S</td>\n    </tr>\n    <tr>\n      <th>1</th>\n      <td>36.000000</td>\n      <td>118.0</td>\n      <td>8.0</td>\n      <td>5.0</td>\n      <td>2</td>\n      <td>2010</td>\n      <td>72</td>\n      <td>C</td>\n    </tr>\n    <tr>\n      <th>2</th>\n      <td>12.000000</td>\n      <td>149.0</td>\n      <td>12.6</td>\n      <td>5.0</td>\n      <td>3</td>\n      <td>2010</td>\n      <td>74</td>\n      <td>PS</td>\n    </tr>\n    <tr>\n      <th>3</th>\n      <td>18.000000</td>\n      <td>313.0</td>\n      <td>11.5</td>\n      <td>5.0</td>\n      <td>4</td>\n      <td>2010</td>\n      <td>62</td>\n      <td>S</td>\n    </tr>\n    <tr>\n      <th>4</th>\n      <td>41.815126</td>\n      <td>NaN</td>\n      <td>14.3</td>\n      <td>5.0</td>\n      <td>5</td>\n      <td>2010</td>\n      <td>56</td>\n      <td>S</td>\n    </tr>\n    <tr>\n      <th>...</th>\n      <td>...</td>\n      <td>...</td>\n      <td>...</td>\n      <td>...</td>\n      <td>...</td>\n      <td>...</td>\n      <td>...</td>\n      <td>...</td>\n    </tr>\n    <tr>\n      <th>152</th>\n      <td>20.000000</td>\n      <td>223.0</td>\n      <td>11.5</td>\n      <td>9.0</td>\n      <td>30</td>\n      <td>2010</td>\n      <td>68</td>\n      <td>S</td>\n    </tr>\n    <tr>\n      <th>153</th>\n      <td>41.000000</td>\n      <td>190.0</td>\n      <td>7.4</td>\n      <td>5.0</td>\n      <td>1</td>\n      <td>2010</td>\n      <td>67</td>\n      <td>C</td>\n    </tr>\n    <tr>\n      <th>154</th>\n      <td>30.000000</td>\n      <td>193.0</td>\n      <td>6.9</td>\n      <td>9.0</td>\n      <td>26</td>\n      <td>2010</td>\n      <td>70</td>\n      <td>PS</td>\n    </tr>\n    <tr>\n      <th>155</th>\n      <td>41.815126</td>\n      <td>145.0</td>\n      <td>13.2</td>\n      <td>9.0</td>\n      <td>27</td>\n      <td>2010</td>\n      <td>77</td>\n      <td>S</td>\n    </tr>\n    <tr>\n      <th>157</th>\n      <td>18.000000</td>\n      <td>131.0</td>\n      <td>8.0</td>\n      <td>9.0</td>\n      <td>29</td>\n      <td>2010</td>\n      <td>76</td>\n      <td>C</td>\n    </tr>\n  </tbody>\n</table>\n<p>157 rows × 8 columns</p>\n</div>"
          },
          "metadata": {}
        }
      ]
    },
    {
      "metadata": {
        "trusted": true
      },
      "cell_type": "code",
      "source": "#Missing value imputation for categorical vlaue\n#Get the object columns\nobj_columns=data_cleaned3[['Weather']]",
      "execution_count": 37,
      "outputs": []
    },
    {
      "metadata": {
        "trusted": true
      },
      "cell_type": "code",
      "source": "obj_columns.isnull().sum()",
      "execution_count": 38,
      "outputs": [
        {
          "output_type": "execute_result",
          "execution_count": 38,
          "data": {
            "text/plain": "Weather    3\ndtype: int64"
          },
          "metadata": {}
        }
      ]
    },
    {
      "metadata": {
        "trusted": true
      },
      "cell_type": "code",
      "source": "#Missing value imputation for categorical vlaue\nobj_columns=obj_columns.fillna(obj_columns.mode().iloc[0])",
      "execution_count": 45,
      "outputs": []
    },
    {
      "metadata": {
        "trusted": true
      },
      "cell_type": "code",
      "source": "obj_columns.isnull().sum()",
      "execution_count": 40,
      "outputs": [
        {
          "output_type": "execute_result",
          "execution_count": 40,
          "data": {
            "text/plain": "Weather    0\ndtype: int64"
          },
          "metadata": {}
        }
      ]
    },
    {
      "metadata": {
        "trusted": true
      },
      "cell_type": "code",
      "source": "data_cleaned3.shape",
      "execution_count": 41,
      "outputs": [
        {
          "output_type": "execute_result",
          "execution_count": 41,
          "data": {
            "text/plain": "(157, 8)"
          },
          "metadata": {}
        }
      ]
    },
    {
      "metadata": {
        "trusted": true
      },
      "cell_type": "code",
      "source": "obj_columns.shape",
      "execution_count": 42,
      "outputs": [
        {
          "output_type": "execute_result",
          "execution_count": 42,
          "data": {
            "text/plain": "(157, 1)"
          },
          "metadata": {}
        }
      ]
    },
    {
      "metadata": {
        "trusted": true
      },
      "cell_type": "code",
      "source": "#Join the data set with imputed object dataset\ndata_cleaned4=pd.concat([data_cleaned3,obj_columns],axis=1)",
      "execution_count": 43,
      "outputs": []
    },
    {
      "metadata": {
        "trusted": true
      },
      "cell_type": "code",
      "source": "data_cleaned4",
      "execution_count": 44,
      "outputs": [
        {
          "output_type": "execute_result",
          "execution_count": 44,
          "data": {
            "text/plain": "         Ozone  Solar  Wind  Month  Day  Year  Temp Weather Weather\n0    41.000000  190.0   7.4    5.0    1  2010    67       S       S\n1    36.000000  118.0   8.0    5.0    2  2010    72       C       C\n2    12.000000  149.0  12.6    5.0    3  2010    74      PS      PS\n3    18.000000  313.0  11.5    5.0    4  2010    62       S       S\n4    41.815126    NaN  14.3    5.0    5  2010    56       S       S\n..         ...    ...   ...    ...  ...   ...   ...     ...     ...\n152  20.000000  223.0  11.5    9.0   30  2010    68       S       S\n153  41.000000  190.0   7.4    5.0    1  2010    67       C       C\n154  30.000000  193.0   6.9    9.0   26  2010    70      PS      PS\n155  41.815126  145.0  13.2    9.0   27  2010    77       S       S\n157  18.000000  131.0   8.0    9.0   29  2010    76       C       C\n\n[157 rows x 9 columns]",
            "text/html": "<div>\n<style scoped>\n    .dataframe tbody tr th:only-of-type {\n        vertical-align: middle;\n    }\n\n    .dataframe tbody tr th {\n        vertical-align: top;\n    }\n\n    .dataframe thead th {\n        text-align: right;\n    }\n</style>\n<table border=\"1\" class=\"dataframe\">\n  <thead>\n    <tr style=\"text-align: right;\">\n      <th></th>\n      <th>Ozone</th>\n      <th>Solar</th>\n      <th>Wind</th>\n      <th>Month</th>\n      <th>Day</th>\n      <th>Year</th>\n      <th>Temp</th>\n      <th>Weather</th>\n      <th>Weather</th>\n    </tr>\n  </thead>\n  <tbody>\n    <tr>\n      <th>0</th>\n      <td>41.000000</td>\n      <td>190.0</td>\n      <td>7.4</td>\n      <td>5.0</td>\n      <td>1</td>\n      <td>2010</td>\n      <td>67</td>\n      <td>S</td>\n      <td>S</td>\n    </tr>\n    <tr>\n      <th>1</th>\n      <td>36.000000</td>\n      <td>118.0</td>\n      <td>8.0</td>\n      <td>5.0</td>\n      <td>2</td>\n      <td>2010</td>\n      <td>72</td>\n      <td>C</td>\n      <td>C</td>\n    </tr>\n    <tr>\n      <th>2</th>\n      <td>12.000000</td>\n      <td>149.0</td>\n      <td>12.6</td>\n      <td>5.0</td>\n      <td>3</td>\n      <td>2010</td>\n      <td>74</td>\n      <td>PS</td>\n      <td>PS</td>\n    </tr>\n    <tr>\n      <th>3</th>\n      <td>18.000000</td>\n      <td>313.0</td>\n      <td>11.5</td>\n      <td>5.0</td>\n      <td>4</td>\n      <td>2010</td>\n      <td>62</td>\n      <td>S</td>\n      <td>S</td>\n    </tr>\n    <tr>\n      <th>4</th>\n      <td>41.815126</td>\n      <td>NaN</td>\n      <td>14.3</td>\n      <td>5.0</td>\n      <td>5</td>\n      <td>2010</td>\n      <td>56</td>\n      <td>S</td>\n      <td>S</td>\n    </tr>\n    <tr>\n      <th>...</th>\n      <td>...</td>\n      <td>...</td>\n      <td>...</td>\n      <td>...</td>\n      <td>...</td>\n      <td>...</td>\n      <td>...</td>\n      <td>...</td>\n      <td>...</td>\n    </tr>\n    <tr>\n      <th>152</th>\n      <td>20.000000</td>\n      <td>223.0</td>\n      <td>11.5</td>\n      <td>9.0</td>\n      <td>30</td>\n      <td>2010</td>\n      <td>68</td>\n      <td>S</td>\n      <td>S</td>\n    </tr>\n    <tr>\n      <th>153</th>\n      <td>41.000000</td>\n      <td>190.0</td>\n      <td>7.4</td>\n      <td>5.0</td>\n      <td>1</td>\n      <td>2010</td>\n      <td>67</td>\n      <td>C</td>\n      <td>C</td>\n    </tr>\n    <tr>\n      <th>154</th>\n      <td>30.000000</td>\n      <td>193.0</td>\n      <td>6.9</td>\n      <td>9.0</td>\n      <td>26</td>\n      <td>2010</td>\n      <td>70</td>\n      <td>PS</td>\n      <td>PS</td>\n    </tr>\n    <tr>\n      <th>155</th>\n      <td>41.815126</td>\n      <td>145.0</td>\n      <td>13.2</td>\n      <td>9.0</td>\n      <td>27</td>\n      <td>2010</td>\n      <td>77</td>\n      <td>S</td>\n      <td>S</td>\n    </tr>\n    <tr>\n      <th>157</th>\n      <td>18.000000</td>\n      <td>131.0</td>\n      <td>8.0</td>\n      <td>9.0</td>\n      <td>29</td>\n      <td>2010</td>\n      <td>76</td>\n      <td>C</td>\n      <td>C</td>\n    </tr>\n  </tbody>\n</table>\n<p>157 rows × 9 columns</p>\n</div>"
          },
          "metadata": {}
        }
      ]
    },
    {
      "metadata": {},
      "cell_type": "markdown",
      "source": "# Scatter plot and Correlation analysis"
    },
    {
      "metadata": {
        "trusted": true
      },
      "cell_type": "code",
      "source": "# Seaborn visualization library\nimport seaborn as sns\n# Create the default pairplot\nsns.pairplot(data_cleaned3)",
      "execution_count": null,
      "outputs": []
    },
    {
      "metadata": {
        "trusted": true
      },
      "cell_type": "code",
      "source": "#Correlation\n\ndata_cleaned3.corr()\n",
      "execution_count": null,
      "outputs": []
    },
    {
      "metadata": {},
      "cell_type": "markdown",
      "source": "# Transformations"
    },
    {
      "metadata": {},
      "cell_type": "markdown",
      "source": "# Dummy Variable"
    },
    {
      "metadata": {
        "trusted": true
      },
      "cell_type": "code",
      "source": "#Creating dummy variable for Weather column\ndata_cleaned4=pd.get_dummies(data,columns=['Weather'])",
      "execution_count": null,
      "outputs": []
    },
    {
      "metadata": {
        "trusted": true
      },
      "cell_type": "code",
      "source": "data_cleaned4",
      "execution_count": null,
      "outputs": []
    },
    {
      "metadata": {
        "trusted": true
      },
      "cell_type": "code",
      "source": "data_cleaned4=data_cleaned4.dropna()",
      "execution_count": null,
      "outputs": []
    },
    {
      "metadata": {
        "trusted": true
      },
      "cell_type": "code",
      "source": "#Normalization of the data\nfrom numpy import set_printoptions\nfrom sklearn.preprocessing import MinMaxScaler",
      "execution_count": null,
      "outputs": []
    },
    {
      "metadata": {
        "trusted": true
      },
      "cell_type": "code",
      "source": "data_cleaned4.values",
      "execution_count": null,
      "outputs": []
    },
    {
      "metadata": {
        "trusted": true
      },
      "cell_type": "code",
      "source": "\narray = data_cleaned3.values\n\nscaler = MinMaxScaler(feature_range=(0,1))\nrescaledX = scaler.fit_transform(array[:,0:5])\n\n# summarize transformed data\nset_printoptions(precision=2)\nprint(rescaledX[0:5,:])\n",
      "execution_count": null,
      "outputs": []
    },
    {
      "metadata": {
        "trusted": true
      },
      "cell_type": "code",
      "source": "# Standardize data (0 mean, 1 stdev)\nfrom sklearn.preprocessing import StandardScaler",
      "execution_count": null,
      "outputs": []
    },
    {
      "metadata": {
        "trusted": true
      },
      "cell_type": "code",
      "source": "array = data_cleaned4.values\nscaler = StandardScaler().fit(array)\nrescaledX = scaler.transform(array)\n\n# summarize transformed data\nset_printoptions(precision=2)\nprint(rescaledX[0:5,:])",
      "execution_count": null,
      "outputs": []
    },
    {
      "metadata": {},
      "cell_type": "markdown",
      "source": "# Speed up the EDA process"
    },
    {
      "metadata": {
        "trusted": true
      },
      "cell_type": "code",
      "source": "EDA_report= pp.ProfileReport(data)\nEDA_report.to_file(output_file='report.html')",
      "execution_count": null,
      "outputs": []
    },
    {
      "metadata": {
        "trusted": true
      },
      "cell_type": "code",
      "source": "sweet_report = sv.analyze(data)\nsweet_report.show_html('weather_report.html')",
      "execution_count": null,
      "outputs": []
    },
    {
      "metadata": {
        "trusted": true
      },
      "cell_type": "code",
      "source": "my_report = sv.compare_intra(data, data[\"Weather\"] == \"S\", [\"S\", \"C\"])",
      "execution_count": null,
      "outputs": []
    },
    {
      "metadata": {
        "trusted": true
      },
      "cell_type": "code",
      "source": "my_report.show_html('compare.html')",
      "execution_count": null,
      "outputs": []
    },
    {
      "metadata": {
        "trusted": true
      },
      "cell_type": "code",
      "source": "",
      "execution_count": null,
      "outputs": []
    }
  ],
  "metadata": {
    "kernelspec": {
      "name": "python3",
      "display_name": "Python 3",
      "language": "python"
    },
    "language_info": {
      "name": "python",
      "version": "3.8.3",
      "mimetype": "text/x-python",
      "codemirror_mode": {
        "name": "ipython",
        "version": 3
      },
      "pygments_lexer": "ipython3",
      "nbconvert_exporter": "python",
      "file_extension": ".py"
    },
    "gist": {
      "id": "105140e56f70247f38a5bcaca331c81c",
      "data": {
        "description": "EDA_1_Latest.ipynb",
        "public": true
      }
    },
    "_draft": {
      "nbviewer_url": "https://gist.github.com/105140e56f70247f38a5bcaca331c81c"
    }
  },
  "nbformat": 4,
  "nbformat_minor": 2
}